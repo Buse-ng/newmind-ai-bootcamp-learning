{
 "cells": [
  {
   "cell_type": "code",
   "execution_count": null,
   "id": "c3331310",
   "metadata": {},
   "outputs": [],
   "source": [
    "# !pip install neo4j"
   ]
  },
  {
   "cell_type": "code",
   "execution_count": 1,
   "id": "6bef5ecb",
   "metadata": {},
   "outputs": [],
   "source": [
    "import os \n",
    "from dotenv import load_dotenv\n",
    "\n",
    "load_dotenv()\n",
    "groq_api_key = os.getenv(\"GROQ\")"
   ]
  },
  {
   "cell_type": "code",
   "execution_count": 2,
   "id": "f8d44c1b",
   "metadata": {},
   "outputs": [
    {
     "name": "stdout",
     "output_type": "stream",
     "text": [
      "Neo4j kütüphanesi başarıyla import edildi.\n"
     ]
    }
   ],
   "source": [
    "from neo4j import GraphDatabase\n",
    "\n",
    "print(\"Neo4j kütüphanesi başarıyla import edildi.\")"
   ]
  },
  {
   "cell_type": "code",
   "execution_count": null,
   "id": "8baafb24",
   "metadata": {},
   "outputs": [],
   "source": [
    "# Neo4j bağlantı bilgileri\n",
    "URI = os.getenv(\"NEO4J_URI\")\n",
    "AUTH = (\"neo4j\", \"\")\n",
    "\n",
    "# Neo4j'ye bağlanmak için bir driver objesi oluşturuyoruz\n",
    "try:\n",
    "    driver = GraphDatabase.driver(URI, auth=AUTH)\n",
    "    driver.verify_connectivity() # Bağlantıyı doğrula\n",
    "    print(\"Neo4j bağlantısı başarılı!\")\n",
    "except Exception as e:\n",
    "    print(f\"Neo4j bağlantı hatası: {e}\")\n",
    "    driver = None # Bağlantı başarısızsa driver'ı None yapalım"
   ]
  },
  {
   "cell_type": "code",
   "execution_count": null,
   "id": "55f97498",
   "metadata": {},
   "outputs": [],
   "source": [
    "# Örnek bir Cypher sorgusu\n",
    "my_cypher_query = \"MATCH (p:Person)-[:KNOWS]->(friend:Person) WHERE p.name = $person_name RETURN friend.name AS friend_name\""
   ]
  }
 ],
 "metadata": {
  "kernelspec": {
   "display_name": "Python 3",
   "language": "python",
   "name": "python3"
  },
  "language_info": {
   "codemirror_mode": {
    "name": "ipython",
    "version": 3
   },
   "file_extension": ".py",
   "mimetype": "text/x-python",
   "name": "python",
   "nbconvert_exporter": "python",
   "pygments_lexer": "ipython3",
   "version": "3.10.11"
  }
 },
 "nbformat": 4,
 "nbformat_minor": 5
}
