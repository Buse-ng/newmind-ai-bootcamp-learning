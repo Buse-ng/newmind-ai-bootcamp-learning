{
 "cells": [
  {
   "cell_type": "markdown",
   "id": "1b79797c",
   "metadata": {},
   "source": [
    "LangChain includes functionality to integrate directly with Neo4j, including allowing you to run Cypher statements, query vector indexes and use Neo4j as a conversation memory store.\n",
    "\n",
    "LangChain, Cypher ifadelerini çalıştırmanıza, vektör dizinlerini sorgulamanıza ve Neo4j'i bir konuşma belleği deposu olarak kullanmanıza olanak tanıyan Neo4j ile doğrudan entegre olma işlevselliğine sahiptir."
   ]
  },
  {
   "cell_type": "markdown",
   "id": "6ba6d9da",
   "metadata": {},
   "source": [
    "### Connecting to a Neo4j instance\n"
   ]
  },
  {
   "cell_type": "code",
   "execution_count": null,
   "id": "c6dbb43b",
   "metadata": {},
   "outputs": [],
   "source": [
    "#Aşağıdaki kod bir NEO4J veritabanına bağlanır ve basit bir sorgu çalıştırır.\n",
    "\n",
    "import os\n",
    "from langchain_neo4j import Neo4jGraph\n",
    "\n",
    "graph = Neo4jGraph(\n",
    "    url=os.getenv(\"NEO4J_URI\"),\n",
    "    username=os.getenv(\"NEO4J_USERNAME\"),\n",
    "    password=os.getenv(\"NEO4J_PASSWORD\")\n",
    ")\n",
    "\n",
    "result = graph.query(\"\"\"\n",
    "MATCH (m:Movie{title: 'Toy Story'}) \n",
    "RETURN m.title, m.plot, m.poster\n",
    "\"\"\")\n",
    "\n",
    "print(result)"
   ]
  },
  {
   "cell_type": "markdown",
   "id": "1eee85b8",
   "metadata": {},
   "source": [
    "Schema\n",
    "NEO4J veritabanına bağlandığınızda, nesne veritabanı şemasını belleğe yükler - bu, Langchain'in veritabanını sorgulamak zorunda kalmadan şema bilgilerine erişmesini sağlar.\n",
    "Şema bilgilerine şema özelliğini kullanarak erişebilirsiniz.\n",
    "\n",
    "print(graph.schema)\n",
    "\n",
    "Refreshing the schema:\n",
    "You can refresh the schema by calling the graph.refresh_schema() method.\n",
    "\n"
   ]
  },
  {
   "cell_type": "markdown",
   "id": "3aba1f31",
   "metadata": {},
   "source": [
    "### Conversation History\n",
    "Konuşma geçmişi\n",
    "In the previous lesson, you created a program that used the ChatMessageHistory component to store conversation history in memory.\n",
    "Önceki derste, konuşma geçmişini bellekte saklamak için chatMessageHistory bileşenini kullanan bir program oluşturdunuz.\n",
    "\n",
    "You will now update this program to store the conversation history in your Neo4j sandbox using the Neo4jChatMessageHistory component.\n",
    "Şimdi Neo4jchatMessageHistory bileşenini kullanarak NEO4J sanal alanınızda konuşma geçmişini saklamak için bu programı güncelleyeceksiniz.\n"
   ]
  },
  {
   "cell_type": "code",
   "execution_count": null,
   "id": "940e6368",
   "metadata": {},
   "outputs": [],
   "source": [
    "import os\n",
    "from langchain_openai import ChatOpenAI\n",
    "from langchain_core.prompts import ChatPromptTemplate, MessagesPlaceholder\n",
    "from langchain.schema import StrOutputParser\n",
    "from langchain_community.chat_message_histories import ChatMessageHistory\n",
    "from langchain_core.runnables.history import RunnableWithMessageHistory\n",
    "\n",
    "chat_llm = ChatOpenAI(\n",
    "    openai_api_key=os.getenv(\"OPENAI_API_KEY\")\n",
    ")\n",
    "\n",
    "prompt = ChatPromptTemplate.from_messages(\n",
    "    [\n",
    "        (\n",
    "            \"system\",\n",
    "            \"You are a surfer dude, having a conversation about the surf conditions on the beach. Respond using surfer slang.\",\n",
    "        ),\n",
    "        (\"system\", \"{context}\"),\n",
    "        MessagesPlaceholder(variable_name=\"chat_history\"),\n",
    "        (\"human\", \"{question}\"),\n",
    "    ]\n",
    ")\n",
    "\n",
    "memory = ChatMessageHistory()\n",
    "\n",
    "def get_memory(session_id):\n",
    "    return memory\n",
    "\n",
    "chat_chain = prompt | chat_llm | StrOutputParser()\n",
    "\n",
    "chat_with_message_history = RunnableWithMessageHistory(\n",
    "    chat_chain,\n",
    "    get_memory,\n",
    "    input_messages_key=\"question\",\n",
    "    history_messages_key=\"chat_history\",\n",
    ")\n",
    "\n",
    "\n",
    "current_weather = \"\"\"\n",
    "    {\n",
    "        \"surf\": [\n",
    "            {\"beach\": \"Fistral\", \"conditions\": \"6ft waves and offshore winds\"},\n",
    "            {\"beach\": \"Bells\", \"conditions\": \"Flat and calm\"},\n",
    "            {\"beach\": \"Watergate Bay\", \"conditions\": \"3ft waves and onshore winds\"}\n",
    "        ]\n",
    "    }\"\"\"\n",
    "\n",
    "while (question := input(\"> \")) != \"exit\":\n",
    "\n",
    "    response = chat_with_message_history.invoke(\n",
    "        {\n",
    "            \"context\": current_weather,\n",
    "            \"question\": question,\n",
    "            \n",
    "        }, \n",
    "        config={\n",
    "            \"configurable\": {\"session_id\": \"none\"}\n",
    "        }\n",
    "    )\n",
    "    \n",
    "    print(response)"
   ]
  },
  {
   "cell_type": "markdown",
   "id": "715afe7f",
   "metadata": {},
   "source": [
    "### Session ID - Oturum Kimliği\n",
    "You must create and assign a session ID to each conversation to identify them.\n",
    "Bunları tanımlamak için her konuşmaya bir oturum kimliği oluşturmalı ve atamalısınız.\n",
    "\n",
    "The session ID can be any unique value, such as a Universally Unique Identifier (UUID).\n",
    "Oturum kimliği, evrensel olarak benzersiz bir tanımlayıcı (UUID) gibi benzersiz bir değer olabilir.\n",
    "\n",
    "You can generate a random UUID using the Python uuid.uuid4 function.\n",
    "Python UUID.UUID4 işlevini kullanarak rastgele bir UUID oluşturabilirsiniz.\n",
    "\n",
    "Create a new SESSION_ID constant in your chat model program.\n",
    "Sohbet modeli programınızda yeni bir oturum_id sabiti oluşturun."
   ]
  },
  {
   "cell_type": "code",
   "execution_count": null,
   "id": "866c684e",
   "metadata": {},
   "outputs": [],
   "source": [
    "from uuid import uuid4\n",
    "\n",
    "SESSION_ID = str(uuid4())\n",
    "print(f\"Session ID: {SESSION_ID}\")\n",
    "# Bu oturum kimliği, Neo4J'deki konuşmayı tanımlamak için kullanılacaktır."
   ]
  },
  {
   "cell_type": "markdown",
   "id": "a59337ae",
   "metadata": {},
   "source": [
    "### Neo4j Chat Message History\n",
    "Neo4j sohbet mesaj geçmişi\n",
    "Create a Neo4jGraph object to connect to your Neo4j sandbox.\n",
    "Neo4j kum havuzunuza bağlanmak için bir neo4jgraph nesnesi oluşturun."
   ]
  },
  {
   "cell_type": "code",
   "execution_count": null,
   "id": "d609c536",
   "metadata": {},
   "outputs": [],
   "source": [
    "from langchain_neo4j import Neo4jGraph\n",
    "\n",
    "graph = Neo4jGraph(\n",
    "    url=os.getenv(\"NEO4J_URI\"),\n",
    "    username=os.getenv(\"NEO4J_USERNAME\"),\n",
    "    password=os.getenv(\"NEO4J_PASSWORD\")\n",
    ")"
   ]
  },
  {
   "cell_type": "markdown",
   "id": "aa0315d0",
   "metadata": {},
   "source": [
    "Previously, the get_memory function returned an instance of ChatMessageHistory.\n",
    "Daha önce, get_memory işlevi bir chatMessageHistory örneği döndürmüştü.\n",
    "\n",
    "The get_memory function should now return an instance of Neo4jChatMessageHistory. You should pass the session_id and the graph connection you created as parameters.\n",
    "Get_Memory işlevi artık Neo4jchatMessageHistory örneğini döndürmelidir. Session_id'i ve parametre olarak oluşturduğunuz grafik bağlantısını geçmelisiniz.\n"
   ]
  },
  {
   "cell_type": "code",
   "execution_count": null,
   "id": "4a855832",
   "metadata": {},
   "outputs": [],
   "source": [
    "from langchain_neo4j import Neo4jChatMessageHistory\n",
    "\n",
    "def get_memory(session_id):\n",
    "    return Neo4jChatMessageHistory(session_id=session_id, graph=graph)"
   ]
  },
  {
   "cell_type": "markdown",
   "id": "b3b839b8",
   "metadata": {},
   "source": [
    "Finally, you must add the SESSION_ID to the config when you invoke the chat model.\n",
    "Son olarak, sohbet modelini çağırdığınızda seans_id'i yapılandırmaya eklemelisiniz."
   ]
  },
  {
   "cell_type": "code",
   "execution_count": null,
   "id": "94fd46c8",
   "metadata": {},
   "outputs": [],
   "source": [
    "    response = chat_with_message_history.invoke(\n",
    "        {\n",
    "            \"context\": current_weather,\n",
    "            \"question\": question,\n",
    "            \n",
    "        }, \n",
    "        config={\n",
    "            \"configurable\": {\"session_id\": SESSION_ID}\n",
    "        }\n",
    "    )"
   ]
  },
  {
   "cell_type": "markdown",
   "id": "36559091",
   "metadata": {},
   "source": [
    "compalte code\n",
    "import os\n",
    "from langchain_openai import ChatOpenAI\n",
    "from langchain_core.prompts import ChatPromptTemplate, MessagesPlaceholder\n",
    "from langchain.schema import StrOutputParser\n",
    "from langchain_core.runnables.history import RunnableWithMessageHistory\n",
    "from langchain_neo4j import Neo4jGraph\n",
    "from langchain_neo4j import Neo4jChatMessageHistory\n",
    "from uuid import uuid4\n",
    "\n",
    "SESSION_ID = str(uuid4())\n",
    "print(f\"Session ID: {SESSION_ID}\")\n",
    "\n",
    "chat_llm = ChatOpenAI(\n",
    "    openai_api_key=os.getenv(\"OPENAI_API_KEY\")\n",
    ")\n",
    "\n",
    "graph = Neo4jGraph(\n",
    "    url=os.getenv(\"NEO4J_URI\"),\n",
    "    username=os.getenv(\"NEO4J_USERNAME\"),\n",
    "    password=os.getenv(\"NEO4J_PASSWORD\")\n",
    ")\n",
    "\n",
    "prompt = ChatPromptTemplate.from_messages(\n",
    "    [\n",
    "        (\n",
    "            \"system\",\n",
    "            \"You are a surfer dude, having a conversation about the surf conditions on the beach. Respond using surfer slang.\",\n",
    "        ),\n",
    "        (\"system\", \"{context}\"),\n",
    "        MessagesPlaceholder(variable_name=\"chat_history\"),\n",
    "        (\"human\", \"{question}\"),\n",
    "    ]\n",
    ")\n",
    "\n",
    "def get_memory(session_id):\n",
    "    return Neo4jChatMessageHistory(session_id=session_id, graph=graph)\n",
    "\n",
    "chat_chain = prompt | chat_llm | StrOutputParser()\n",
    "\n",
    "chat_with_message_history = RunnableWithMessageHistory(\n",
    "    chat_chain,\n",
    "    get_memory,\n",
    "    input_messages_key=\"question\",\n",
    "    history_messages_key=\"chat_history\",\n",
    ")\n",
    "\n",
    "current_weather = \"\"\"\n",
    "    {\n",
    "        \"surf\": [\n",
    "            {\"beach\": \"Fistral\", \"conditions\": \"6ft waves and offshore winds\"},\n",
    "            {\"beach\": \"Bells\", \"conditions\": \"Flat and calm\"},\n",
    "            {\"beach\": \"Watergate Bay\", \"conditions\": \"3ft waves and onshore winds\"}\n",
    "        ]\n",
    "    }\"\"\"\n",
    "\n",
    "while (question := input(\"> \")) != \"exit\":\n",
    "    \n",
    "    response = chat_with_message_history.invoke(\n",
    "        {\n",
    "            \"context\": current_weather,\n",
    "            \"question\": question,\n",
    "            \n",
    "        }, \n",
    "        config={\n",
    "            \"configurable\": {\"session_id\": SESSION_ID}\n",
    "        }\n",
    "    )\n",
    "    \n",
    "    print(response)"
   ]
  },
  {
   "cell_type": "markdown",
   "id": "a5e2754c",
   "metadata": {},
   "source": [
    "Aşağıdaki Cypher sorgusunu kullanarak konuşma geçmişinin grafiğini döndürebilirsiniz\n",
    "\n",
    "MATCH (s:Session)-[:LAST_MESSAGE]->(last:Message)<-[:NEXT*]-(msg:Message)\n",
    "RETURN s, last, msg\n",
    "\n",
    "Session.id özelliğine filtreleyerek tek bir oturum için konuşma geçmişini döndürebilirsiniz.\n",
    "\n",
    "MATCH (s:Session)-[:LAST_MESSAGE]->(last:Message)\n",
    "WHERE s.id = 'your session id'\n",
    "MATCH p = (last)<-[:NEXT*]-(msg:Message)\n",
    "UNWIND nodes(p) as msgs\n",
    "RETURN DISTINCT msgs.type, msgs.content"
   ]
  },
  {
   "cell_type": "markdown",
   "id": "e4bcc87c",
   "metadata": {},
   "source": [
    "Doğru olan Langchain Neo4j entegrasyonu hakkında tüm ifadeleri seçin.\n",
    "\n",
    " You can connect to a Neo4j databaseNeo4J veritabanına bağlanabilirsiniz\n",
    " The database schema is loaded automaticallyVeritabanı şeması otomatik olarak yüklenir\n",
    " You can run Cypher queriesCypher sorgularını çalıştırabilirsiniz\n",
    " Vectors can be queriedVektörler sorgulanabilir\n",
    " You can use Neo4j as a conversation memory storeNeo4j'i konuşma bellek mağazası olarak kullanabilirsiniz"
   ]
  },
  {
   "cell_type": "markdown",
   "id": "6555762f",
   "metadata": {},
   "source": []
  }
 ],
 "metadata": {
  "language_info": {
   "name": "python"
  }
 },
 "nbformat": 4,
 "nbformat_minor": 5
}
